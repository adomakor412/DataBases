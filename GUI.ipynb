{
 "cells": [
  {
   "cell_type": "code",
   "execution_count": 13,
   "metadata": {},
   "outputs": [],
   "source": [
    "import mysql.connector\n",
    "mysql.connector."
   ]
  },
  {
   "cell_type": "code",
   "execution_count": 18,
   "metadata": {},
   "outputs": [
    {
     "name": "stdout",
     "output_type": "stream",
     "text": [
      "<mysql.connector.connection_cext.CMySQLConnection object at 0x7fc605d47590>\n"
     ]
    }
   ],
   "source": [
    "import mysql.connector\n",
    "\n",
    "mydb = mysql.connector.connect(\n",
    "  host=\"localhost\",\n",
    "  user=\"root\",\n",
    "  password=\"password\"\n",
    ")\n",
    "\n",
    "print(mydb)"
   ]
  },
  {
   "cell_type": "code",
   "execution_count": 33,
   "metadata": {},
   "outputs": [],
   "source": [
    "sql = open('tutorial.sql','r')"
   ]
  },
  {
   "cell_type": "code",
   "execution_count": 39,
   "metadata": {},
   "outputs": [
    {
     "name": "stdout",
     "output_type": "stream",
     "text": [
      "<mysql.connector.connection_cext.CMySQLConnection object at 0x7fc605d9acd0>\n"
     ]
    }
   ],
   "source": [
    "import mysql.connector\n",
    "#import mysql#.connector.python\n",
    "mydb = mysql.connector.connect(\n",
    "    host=\"localhost\",#host=\"127.0.0.1\",#host=\"localhost\",#\n",
    "    port=\"3306\",\n",
    "    user=\"root\",\n",
    "    passwd=\"password\",\n",
    "    #database=\"Quantacts\"\n",
    " )\n",
    "\n",
    "print(mydb)\n",
    "\n",
    "cur = mydb.cursor()\n"
   ]
  },
  {
   "cell_type": "code",
   "execution_count": 41,
   "metadata": {},
   "outputs": [],
   "source": [
    "sqlString = ''\n",
    "for line in sql:\n",
    "    sqlString.append(line.strip())\n",
    "cur.execute(sqlString)"
   ]
  },
  {
   "cell_type": "code",
   "execution_count": 40,
   "metadata": {},
   "outputs": [],
   "source": [
    "cur.execute('''\n",
    "-- MySQL Workbench Forward Engineering\n",
    "\n",
    "SET @OLD_UNIQUE_CHECKS=@@UNIQUE_CHECKS, UNIQUE_CHECKS=0;\n",
    "SET @OLD_FOREIGN_KEY_CHECKS=@@FOREIGN_KEY_CHECKS, FOREIGN_KEY_CHECKS=0;\n",
    "SET @OLD_SQL_MODE=@@SQL_MODE, SQL_MODE='ONLY_FULL_GROUP_BY,STRICT_TRANS_TABLES,NO_ZERO_IN_DATE,NO_ZERO_DATE,ERROR_FOR_DIVISION_BY_ZERO,NO_ENGINE_SUBSTITUTION';\n",
    "\n",
    "-- -----------------------------------------------------\n",
    "-- Schema mydb\n",
    "-- -----------------------------------------------------\n",
    "\n",
    "-- -----------------------------------------------------\n",
    "-- Schema mydb\n",
    "-- -----------------------------------------------------\n",
    "CREATE SCHEMA IF NOT EXISTS `mydb` DEFAULT CHARACTER SET utf8 ;\n",
    "USE `mydb` ;\n",
    "\n",
    "-- -----------------------------------------------------\n",
    "-- Table `mydb`.`First_Name`\n",
    "-- -----------------------------------------------------\n",
    "CREATE TABLE IF NOT EXISTS `mydb`.`First_Name` (\n",
    "  `ID` INT NOT NULL AUTO_INCREMENT,\n",
    "  `FIRST` VARCHAR(100) NOT NULL,\n",
    "  PRIMARY KEY (`ID`),\n",
    "  UNIQUE INDEX `ID_UNIQUE` (`ID` ASC) VISIBLE)\n",
    "ENGINE = InnoDB;\n",
    "\n",
    "\n",
    "-- -----------------------------------------------------\n",
    "-- Table `mydb`.`Last_Name`\n",
    "-- -----------------------------------------------------\n",
    "CREATE TABLE IF NOT EXISTS `mydb`.`Last_Name` (\n",
    "  `ID` INT NOT NULL,\n",
    "  `LAST` VARCHAR(100) NOT NULL,\n",
    "  PRIMARY KEY (`ID`),\n",
    "  UNIQUE INDEX `ID_UNIQUE` (`ID` ASC) VISIBLE)\n",
    "ENGINE = InnoDB\n",
    "COMMENT = 'FIRST_NAME';\n",
    "\n",
    "\n",
    "-- -----------------------------------------------------\n",
    "-- Table `mydb`.`First Name_has_Last Name`\n",
    "-- -----------------------------------------------------\n",
    "CREATE TABLE IF NOT EXISTS `mydb`.`First Name_has_Last Name` (\n",
    "  `First Name_ID` INT NOT NULL,\n",
    "  `Last Name_ID` INT NOT NULL,\n",
    "  PRIMARY KEY (`First Name_ID`, `Last Name_ID`),\n",
    "  INDEX `fk_First Name_has_Last Name_Last Name1_idx` (`Last Name_ID` ASC) VISIBLE,\n",
    "  INDEX `fk_First Name_has_Last Name_First Name_idx` (`First Name_ID` ASC) VISIBLE,\n",
    "  CONSTRAINT `fk_First Name_has_Last Name_First Name`\n",
    "    FOREIGN KEY (`First Name_ID`)\n",
    "    REFERENCES `mydb`.`First_Name` (`ID`)\n",
    "    ON DELETE NO ACTION\n",
    "    ON UPDATE NO ACTION,\n",
    "  CONSTRAINT `fk_First Name_has_Last Name_Last Name1`\n",
    "    FOREIGN KEY (`Last Name_ID`)\n",
    "    REFERENCES `mydb`.`Last_Name` (`ID`)\n",
    "    ON DELETE NO ACTION\n",
    "    ON UPDATE NO ACTION)\n",
    "ENGINE = InnoDB;\n",
    "\n",
    "\n",
    "-- -----------------------------------------------------\n",
    "-- Table `mydb`.`First_Name_has_Last_Name`\n",
    "-- -----------------------------------------------------\n",
    "CREATE TABLE IF NOT EXISTS `mydb`.`First_Name_has_Last_Name` (\n",
    "  `First_Name_ID` INT NOT NULL,\n",
    "  `Last_Name_ID` INT NOT NULL,\n",
    "  PRIMARY KEY (`First_Name_ID`, `Last_Name_ID`),\n",
    "  INDEX `fk_First_Name_has_Last_Name_Last_Name1_idx` (`Last_Name_ID` ASC) VISIBLE,\n",
    "  INDEX `fk_First_Name_has_Last_Name_First_Name1_idx` (`First_Name_ID` ASC) VISIBLE,\n",
    "  CONSTRAINT `fk_First_Name_has_Last_Name_First_Name1`\n",
    "    FOREIGN KEY (`First_Name_ID`)\n",
    "    REFERENCES `mydb`.`First_Name` (`ID`)\n",
    "    ON DELETE NO ACTION\n",
    "    ON UPDATE NO ACTION,\n",
    "  CONSTRAINT `fk_First_Name_has_Last_Name_Last_Name1`\n",
    "    FOREIGN KEY (`Last_Name_ID`)\n",
    "    REFERENCES `mydb`.`Last_Name` (`ID`)\n",
    "    ON DELETE NO ACTION\n",
    "    ON UPDATE NO ACTION)\n",
    "ENGINE = InnoDB;\n",
    "\n",
    "\n",
    "SET SQL_MODE=@OLD_SQL_MODE;\n",
    "SET FOREIGN_KEY_CHECKS=@OLD_FOREIGN_KEY_CHECKS;\n",
    "SET UNIQUE_CHECKS=@OLD_UNIQUE_CHECKS;\n",
    "'''\n",
    ")"
   ]
  },
  {
   "cell_type": "code",
   "execution_count": 42,
   "metadata": {},
   "outputs": [],
   "source": [
    "import sqlite3"
   ]
  },
  {
   "cell_type": "code",
   "execution_count": 43,
   "metadata": {},
   "outputs": [],
   "source": [
    "conn = sqlite3.connect(\"books.db\")\n",
    "cur = conn.cursor()\n"
   ]
  },
  {
   "cell_type": "code",
   "execution_count": null,
   "metadata": {},
   "outputs": [],
   "source": [
    "cur.execute()"
   ]
  }
 ],
 "metadata": {
  "kernelspec": {
   "display_name": "Python 3",
   "language": "python",
   "name": "python3"
  },
  "language_info": {
   "codemirror_mode": {
    "name": "ipython",
    "version": 3
   },
   "file_extension": ".py",
   "mimetype": "text/x-python",
   "name": "python",
   "nbconvert_exporter": "python",
   "pygments_lexer": "ipython3",
   "version": "3.7.6"
  }
 },
 "nbformat": 4,
 "nbformat_minor": 4
}
