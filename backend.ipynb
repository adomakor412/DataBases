{
 "cells": [
  {
   "cell_type": "code",
   "execution_count": 1,
   "metadata": {},
   "outputs": [],
   "source": [
    "import mysql\n",
    "\n",
    "def connect():\n",
    "    conn = mysql.connect(\"quantacts.db\")\n",
    "    cur = conn.cursor()\n",
    "    cur.execute('''\n",
    "        CREATE SCHEMA IF NOT EXISTS `mydb`;\n",
    "        USE mydb;\n",
    "        CREATE TABLE IF NOT EXISTS (id INTEGER PRIMARY KEY, first text, last text, number text, email text);\n",
    "    ''')\n",
    "    conn.commit()\n",
    "    conn.close()\n",
    "\n",
    "def insert(first,last,number, email):\n",
    "    conn = mysql.connect(\"quantacts.db\")\n",
    "    cur = conn.cursor()\n",
    "    cur.execute(\n",
    "        '''INSERT INTO quantacts VALUES (NULL,?,?,?)''',(first, last, number, email))\n",
    "    conn.commit()\n",
    "    conn.close()\n",
    "    \n",
    "def view():\n",
    "    conn = mysql.connect(\"quantacts.db\")\n",
    "    cur = conn.cursor()\n",
    "    cur.execute('''\n",
    "        SELECT * FROM quantacts\n",
    "    ''')\n",
    "    rows = cur.fetchall()\n",
    "    conn.close()\n",
    "    \n",
    "def search(first,last,number, email):\n",
    "    conn = mysql.connect(\"quantacts.db\")\n",
    "    cur = conn.cursor()\n",
    "    cur.execute(\n",
    "        '''SELECT * FROM quantacts WHERE first=? OR last=? OR number=? OR email=?''', (first, last, number, email)\n",
    "   )\n",
    "    rows = cur.fetchall()\n",
    "    conn.close()\n",
    "    \n",
    "def delete(variable_id):\n",
    "    conn = mysql.connect(\"quantacts.db\")\n",
    "    cur = conn.cursor()\n",
    "    cur.execute(\n",
    "        '''DELETE FROM quantacts WHERE id=?''', (variable_id)\n",
    "   )\n",
    "    rows = cur.fetchall()\n",
    "    conn.close()\n",
    "    \n",
    "def update(variable_id,first,last,number, email):\n",
    "    conn = mysql.connect(\"quantacts.db\")\n",
    "    cur = conn.cursor()\n",
    "    cur.execute(\n",
    "        '''UPDATE quantacts SET first=?,last=?,number=?, email=?, where variable_id=?''', \n",
    "        (variable_id,first, last, number, email)\n",
    "   )\n",
    "    rows = cur.fetchall()\n",
    "    conn.close()"
   ]
  },
  {
   "cell_type": "code",
   "execution_count": null,
   "metadata": {},
   "outputs": [],
   "source": []
  }
 ],
 "metadata": {
  "kernelspec": {
   "display_name": "Python 3",
   "language": "python",
   "name": "python3"
  },
  "language_info": {
   "codemirror_mode": {
    "name": "ipython",
    "version": 3
   },
   "file_extension": ".py",
   "mimetype": "text/x-python",
   "name": "python",
   "nbconvert_exporter": "python",
   "pygments_lexer": "ipython3",
   "version": "3.7.6"
  }
 },
 "nbformat": 4,
 "nbformat_minor": 4
}
