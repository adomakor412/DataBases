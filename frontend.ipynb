{
 "cells": [
  {
   "cell_type": "code",
   "execution_count": 1,
   "metadata": {},
   "outputs": [],
   "source": [
    "from tkinter import *\n",
    "import backend "
   ]
  },
  {
   "cell_type": "code",
   "execution_count": 2,
   "metadata": {},
   "outputs": [],
   "source": [
    "'''INITIALIZE Database'''\n",
    "backend.initiateTable()"
   ]
  },
  {
   "cell_type": "code",
   "execution_count": 3,
   "metadata": {},
   "outputs": [],
   "source": [
    "#backend.insert('ronald','adomako','456','GMAIL')"
   ]
  },
  {
   "cell_type": "code",
   "execution_count": 4,
   "metadata": {},
   "outputs": [
    {
     "data": {
      "text/plain": [
       "[(1, 'thierno', 'diallo', '123', '@'),\n",
       " (2, '', '', '', ''),\n",
       " (3, 'thierno', 'diallo', '123', '@'),\n",
       " (4, '', '', '', ''),\n",
       " (5, 'thierno', 'diallo', '123', '@'),\n",
       " (6, 'thierno', 'diallo', '123', '@'),\n",
       " (7, '', '', '', ''),\n",
       " (8, 'thierno', 'diallo', '123', '@'),\n",
       " (9, '', '', '', ''),\n",
       " (10, 'thierno', 'diallo', '123', '@'),\n",
       " (11, '', '', '', ''),\n",
       " (12, '', '', '', ''),\n",
       " (13, '', '', '', ''),\n",
       " (14, '', '', '', ''),\n",
       " (15, '', '', '', ''),\n",
       " (16, '', '', '', ''),\n",
       " (17, '', '', '', ''),\n",
       " (18, '', '', '', ''),\n",
       " (19, '', '', '', ''),\n",
       " (20, '', '', '', ''),\n",
       " (21, 'ronald', 'adomako', '456', 'gmail'),\n",
       " (22, 'ronald', 'adomako', '456', 'gmail'),\n",
       " (23, 'ronald', 'adomako', '456', 'gmail'),\n",
       " (24, 'ronald', 'adomako', '456', 'gmail'),\n",
       " (25, 'ronald', 'adomako', '456', 'gmail'),\n",
       " (26, 'dan', 'simpelo', '789', 'aol'),\n",
       " (27, '', '', '', ''),\n",
       " (28, '1', '2', '3', '4'),\n",
       " (29, '', '', '', ''),\n",
       " (30, '2', '3', '4', '5'),\n",
       " (31, '3', '4', '5', '6'),\n",
       " (32, '3', '4', '5', '6'),\n",
       " (33, '1', '', '', ''),\n",
       " (34, '1', '', '', ''),\n",
       " (35, '1', '3', '5', '7'),\n",
       " (36, '2', '4', '6', '8'),\n",
       " (37, '2', '4', '6', '8'),\n",
       " (38, '2', '4', '6', '8'),\n",
       " (39, '0123', '0123', '0123', '0123'),\n",
       " (40, '1', '1', '1', '1'),\n",
       " (41, '2', '2', '2', '2'),\n",
       " (42, '2', '2', '2', '2'),\n",
       " (43, '3', '2', '2', '2'),\n",
       " (44, '3', '3', '3', '3'),\n",
       " (45, '4', '4', '4', '4'),\n",
       " (46, '4', '4', '4', '4'),\n",
       " (47, '5', '5', '5', '5'),\n",
       " (48, '6', '6', '6', '6'),\n",
       " (49, '7', '7', '7', '7'),\n",
       " (50, '7', '7', '7', '6'),\n",
       " (51, '8', '8', '8', '8'),\n",
       " (52, '2', '2', '2', '2'),\n",
       " (53, '9', '9', '9', '9')]"
      ]
     },
     "execution_count": 4,
     "metadata": {},
     "output_type": "execute_result"
    }
   ],
   "source": [
    "backend.view()"
   ]
  },
  {
   "cell_type": "code",
   "execution_count": null,
   "metadata": {},
   "outputs": [
    {
     "name": "stdout",
     "output_type": "stream",
     "text": [
      "54 j j j j\n",
      "key id is:  54\n",
      "No user comes up with that search.\n"
     ]
    }
   ],
   "source": [
    "'''CREATE Window Object'''\n",
    "window = Tk()\n",
    "\n",
    "'''Define labels'''\n",
    "l1 = Label(window,text='First Name')\n",
    "l1.grid(row=0, column=0)\n",
    "\n",
    "l2 = Label(window,text='Last Name')\n",
    "l2.grid(row=0, column=2)\n",
    "\n",
    "l3 = Label(window,text='Number')\n",
    "l3.grid(row=1, column=0)\n",
    "\n",
    "l4 = Label(window,text='Email')\n",
    "l4.grid(row=1, column=2)\n",
    "\n",
    "'''Define labels'''\n",
    "first_name_text = StringVar()\n",
    "e1 = Entry(window,textvariable = first_name_text)\n",
    "e1.grid(row=0,column=1)\n",
    "\n",
    "last_name_text = StringVar()\n",
    "e2 = Entry(window,textvariable = last_name_text)\n",
    "e2.grid(row=0,column=3)\n",
    "\n",
    "number_text = StringVar()\n",
    "e3 = Entry(window,textvariable = number_text)\n",
    "e3.grid(row=1,column=1)\n",
    "\n",
    "email_text = StringVar()\n",
    "e4 = Entry(window,textvariable = email_text)\n",
    "e4.grid(row=1,column=3)\n",
    "\n",
    "'''Define ListBox'''\n",
    "list1 = Listbox(window, height =6, width=35)\n",
    "list1.grid(row=2, column=0, rowspan=6,  columnspan=2)\n",
    "\n",
    "'''Attach Scrollbar to the list'''\n",
    "sb1 = Scrollbar(window)\n",
    "sb1.grid(row=2, column=2, rowspan=6)\n",
    "\n",
    "list1.configure(yscrollcommand=sb1.set)\n",
    "sb1.configure(command=list1.yview)\n",
    "\n",
    "'''Define Buttons'''\n",
    "def listItems():\n",
    "    for item in backend.view():\n",
    "        list1.insert(END,item)\n",
    "    return\n",
    "\n",
    "def searchItem():\n",
    "    result = backend.search(e1.get(), e2.get(), e3.get(),e4.get())\n",
    "    list1.delete(0,END)\n",
    "    for item in result:\n",
    "        list1.insert(END,item)\n",
    "    print(result)\n",
    "    return\n",
    "\n",
    "def addItem():\n",
    "    result = backend.insert(e1.get(),e2.get(),e3.get(),e4.get())\n",
    "    list1.delete(0,END)\n",
    "    print(result)\n",
    "    list1.insert(END,result)\n",
    "    return\n",
    "\n",
    "def updateItem():\n",
    "    content = list1.selection_get()\n",
    "    print(content)\n",
    "    key_id = content.split(\" \")[0]\n",
    "    print('key id is: ',key_id)\n",
    "    \n",
    "    '''Update Contact if exists'''\n",
    "    try:\n",
    "        result = backend.update(key_id,e1.get(),e2.get(),e3.get(),e4.get())\n",
    "        print(result)\n",
    "    except:\n",
    "        print('No user comes up with that search.')\n",
    "    \n",
    "    return\n",
    "\n",
    "b1 = Button(window,text='View all', width=12, command = listItems)\n",
    "b1.grid(row=2,column=3)\n",
    "    \n",
    "b1 = Button(window,text='Search Entry', width=12, command = searchItem)\n",
    "b1.grid(row=3,column=3)\n",
    "\n",
    "b1 = Button(window,text='Add Entry', width=12, command = addItem)\n",
    "b1.grid(row=4,column=3)\n",
    "\n",
    "b1 = Button(window,text='Update Selected', width=12, command = updateItem)\n",
    "b1.grid(row=5,column=3)\n",
    "\n",
    "b1 = Button(window,text='Delete Selected', width=12, command = None)\n",
    "b1.grid(row=6,column=3)\n",
    "\n",
    "b1 = Button(window,text='Close', width=12, command = None)\n",
    "b1.grid(row=7,column=3)\n",
    "\n",
    "window.mainloop()"
   ]
  },
  {
   "cell_type": "code",
   "execution_count": null,
   "metadata": {},
   "outputs": [],
   "source": [
    "54 j j j j"
   ]
  }
 ],
 "metadata": {
  "kernelspec": {
   "display_name": "Python 3",
   "language": "python",
   "name": "python3"
  },
  "language_info": {
   "codemirror_mode": {
    "name": "ipython",
    "version": 3
   },
   "file_extension": ".py",
   "mimetype": "text/x-python",
   "name": "python",
   "nbconvert_exporter": "python",
   "pygments_lexer": "ipython3",
   "version": "3.7.6"
  }
 },
 "nbformat": 4,
 "nbformat_minor": 4
}
