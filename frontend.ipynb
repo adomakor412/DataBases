{
 "cells": [
  {
   "cell_type": "code",
   "execution_count": 1,
   "metadata": {},
   "outputs": [],
   "source": [
    "from tkinter import *\n",
    "import backend "
   ]
  },
  {
   "cell_type": "code",
   "execution_count": 2,
   "metadata": {},
   "outputs": [],
   "source": [
    "'''INITIALIZE Database'''\n",
    "backend.initiateTable()"
   ]
  },
  {
   "cell_type": "code",
   "execution_count": 3,
   "metadata": {},
   "outputs": [
    {
     "name": "stdout",
     "output_type": "stream",
     "text": [
      "INSERT INTO quantact1 (first,last,number,email) VALUES ('thierno', 'diallo', '123', '@')\n"
     ]
    }
   ],
   "source": [
    "backend.insert('thierno','diallo','123','@')"
   ]
  },
  {
   "cell_type": "code",
   "execution_count": 4,
   "metadata": {},
   "outputs": [
    {
     "data": {
      "text/plain": [
       "[(1, 'thierno', 'diallo', '123', '@'),\n",
       " (2, '', '', '', ''),\n",
       " (3, 'thierno', 'diallo', '123', '@')]"
      ]
     },
     "execution_count": 4,
     "metadata": {},
     "output_type": "execute_result"
    }
   ],
   "source": [
    "backend.view()"
   ]
  },
  {
   "cell_type": "code",
   "execution_count": 5,
   "metadata": {},
   "outputs": [
    {
     "name": "stdout",
     "output_type": "stream",
     "text": [
      "INSERT INTO quantact1 (first,last,number,email) VALUES ('', '', '', '')\n"
     ]
    }
   ],
   "source": [
    "'''CREATE Window Object'''\n",
    "window = Tk()\n",
    "\n",
    "'''Define labels'''\n",
    "l1 = Label(window,text='First Name')\n",
    "l1.grid(row=0, column=0)\n",
    "\n",
    "l2 = Label(window,text='Last Name')\n",
    "l2.grid(row=0, column=2)\n",
    "\n",
    "l3 = Label(window,text='Number')\n",
    "l3.grid(row=1, column=0)\n",
    "\n",
    "l4 = Label(window,text='Email')\n",
    "l4.grid(row=1, column=2)\n",
    "\n",
    "'''Define labels'''\n",
    "first_name_text = StringVar()\n",
    "e1 = Entry(window,textvariable = first_name_text)\n",
    "e1.grid(row=0,column=1)\n",
    "\n",
    "last_name_text = StringVar()\n",
    "e2 = Entry(window,textvariable = last_name_text)\n",
    "e2.grid(row=0,column=3)\n",
    "\n",
    "number_text = StringVar()\n",
    "e3 = Entry(window,textvariable = number_text)\n",
    "e3.grid(row=1,column=1)\n",
    "\n",
    "email_text = StringVar()\n",
    "e4 = Entry(window,textvariable = email_text)\n",
    "e4.grid(row=1,column=3)\n",
    "\n",
    "'''Define ListBox'''\n",
    "list1 = Listbox(window, height =6, width=35)\n",
    "list1.grid(row=2, column=0, rowspan=6,  columnspan=2)\n",
    "\n",
    "'''Attach Scrollbar to the list'''\n",
    "sb1 = Scrollbar(window)\n",
    "sb1.grid(row=2, column=2, rowspan=6)\n",
    "\n",
    "list1.configure(yscrollcommand=sb1.set)\n",
    "sb1.configure(command=list1.yview)\n",
    "\n",
    "'''Define Buttons'''\n",
    "b1 = Button(window,text='View all', width=12, command = backend.view())\n",
    "b1.grid(row=2,column=3)\n",
    "    \n",
    "b1 = Button(window,text='Search Entry', width=12, command = None)\n",
    "b1.grid(row=3,column=3)\n",
    "\n",
    "b1 = Button( window,text='Add Entry', width=12, command = backend.insert(e1.get(), e2.get(), e3.get(),e4.get()) )\n",
    "b1.grid(row=4,column=3)\n",
    "\n",
    "b1 = Button(window,text='Update Selected', width=12, command = None)\n",
    "b1.grid(row=5,column=3)\n",
    "\n",
    "b1 = Button(window,text='Delete Selected', width=12, command = None)\n",
    "b1.grid(row=6,column=3)\n",
    "\n",
    "b1 = Button(window,text='Close', width=12, command = None)\n",
    "b1.grid(row=7,column=3)\n",
    "\n",
    "window.mainloop()"
   ]
  },
  {
   "cell_type": "code",
   "execution_count": null,
   "metadata": {},
   "outputs": [],
   "source": []
  }
 ],
 "metadata": {
  "kernelspec": {
   "display_name": "Python 3",
   "language": "python",
   "name": "python3"
  },
  "language_info": {
   "codemirror_mode": {
    "name": "ipython",
    "version": 3
   },
   "file_extension": ".py",
   "mimetype": "text/x-python",
   "name": "python",
   "nbconvert_exporter": "python",
   "pygments_lexer": "ipython3",
   "version": "3.7.9"
  }
 },
 "nbformat": 4,
 "nbformat_minor": 4
}
